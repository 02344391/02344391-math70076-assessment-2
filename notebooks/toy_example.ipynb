{
 "cells": [
  {
   "cell_type": "code",
   "execution_count": 1,
   "metadata": {},
   "outputs": [],
   "source": [
    "from sklearn.tree import DecisionTreeRegressor, plot_tree, DecisionTreeClassifier\n",
    "import pandas as pd\n",
    "import matplotlib.pyplot as plt\n",
    "import shap\n",
    "import sklearn\n",
    "import numpy as np\n",
    "import sys\n",
    "import os\n",
    "sys.path.append(os.path.abspath(\"../src/helper-functions\"))\n",
    "import tree_shap"
   ]
  },
  {
   "cell_type": "code",
   "execution_count": 2,
   "metadata": {},
   "outputs": [],
   "source": [
    "Tree = DecisionTreeRegressor()"
   ]
  },
  {
   "cell_type": "code",
   "execution_count": 3,
   "metadata": {},
   "outputs": [],
   "source": [
    "target = [-10] * 10 + [10] * 5 + [5] * 20 + [14] * 5\n",
    "cat_1 = [1] * 10 + [0] * 30\n",
    "x = [60] * 5 + [45] * 30 +  [50] * 5\n",
    "cat_2 = [1] * 15 + [0] * 25\n",
    "data = pd.DataFrame({\"cat_1\": cat_1,\n",
    "                     \"cat_2\": cat_2,\n",
    "                     \"x\": x,\n",
    "                     \"target\": target})"
   ]
  },
  {
   "cell_type": "code",
   "execution_count": 4,
   "metadata": {},
   "outputs": [
    {
     "name": "stdout",
     "output_type": "stream",
     "text": [
      "Shap values from the fitted explainer: [5.30555556 1.38888889 4.30555556]\n",
      "Theoretical Shap values: [5.30555556 1.38888889 4.30555556]\n"
     ]
    }
   ],
   "source": [
    "Tree.fit(data.values[:,:-1], data.values[:,-1])\n",
    "explainer_tree = shap.TreeExplainer(Tree)\n",
    "input_shap = np.array([0,1,60])\n",
    "print(f\"Shap values from the fitted explainer: {explainer_tree.shap_values(input_shap)}\")\n",
    "print(f\"Theoretical Shap values: {np.array([191/36, 25/18, 155/36])}\")\n",
    "input_shap = np.array([[0,1,60], [1,0,40]])"
   ]
  },
  {
   "cell_type": "code",
   "execution_count": 15,
   "metadata": {},
   "outputs": [
    {
     "data": {
      "text/plain": [
       "array([40, 30, 25, 20,  5,  5, 10], dtype=int64)"
      ]
     },
     "execution_count": 15,
     "metadata": {},
     "output_type": "execute_result"
    }
   ],
   "source": [
    "Tree.tree_.n_node_samples\n"
   ]
  },
  {
   "cell_type": "code",
   "execution_count": 5,
   "metadata": {},
   "outputs": [
    {
     "data": {
      "text/plain": [
       "array([[  5.30555556,   1.38888889,   4.30555556],\n",
       "       [-12.14583333,  -0.33333333,  -0.52083333]])"
      ]
     },
     "execution_count": 5,
     "metadata": {},
     "output_type": "execute_result"
    }
   ],
   "source": [
    "explainer_tree_shap = shap.TreeExplainer(Tree)\n",
    "explainer_tree_shap.shap_values(input_shap)"
   ]
  },
  {
   "cell_type": "code",
   "execution_count": 6,
   "metadata": {},
   "outputs": [
    {
     "data": {
      "text/plain": [
       "array([[  5.30555556,   1.38888889,   4.30555556],\n",
       "       [-12.14583333,  -0.33333333,  -0.52083333]])"
      ]
     },
     "execution_count": 6,
     "metadata": {},
     "output_type": "execute_result"
    }
   ],
   "source": [
    "explainer_tree_cat = tree_shap.tree_cat_explainer(Tree)\n",
    "explainer_tree_cat.shap_values(input_shap)"
   ]
  },
  {
   "cell_type": "code",
   "execution_count": 7,
   "metadata": {},
   "outputs": [],
   "source": [
    "from sklearn.ensemble import RandomForestClassifier, RandomForestRegressor\n",
    "from sklearn.datasets import make_classification\n",
    "X, y = make_classification(n_samples=5000, n_features=20,\n",
    "                           n_informative=10, n_redundant=0,\n",
    "                           random_state=0, shuffle=False)\n",
    "clf = RandomForestClassifier()\n",
    "clf.fit(X, y)\n",
    "input_rf = X[39]\n"
   ]
  },
  {
   "cell_type": "code",
   "execution_count": 8,
   "metadata": {},
   "outputs": [
    {
     "data": {
      "text/plain": [
       "array([[ 0.31882277, -0.31882277],\n",
       "       [ 0.00452016, -0.00452016],\n",
       "       [ 0.02143294, -0.02143294],\n",
       "       [ 0.01743621, -0.01743621],\n",
       "       [-0.04689645,  0.04689645],\n",
       "       [ 0.02711024, -0.02711024],\n",
       "       [ 0.01853058, -0.01853058],\n",
       "       [ 0.03271735, -0.03271735],\n",
       "       [ 0.02788661, -0.02788661],\n",
       "       [ 0.0329632 , -0.0329632 ],\n",
       "       [ 0.00214853, -0.00214853],\n",
       "       [ 0.00503364, -0.00503364],\n",
       "       [ 0.00225892, -0.00225892],\n",
       "       [ 0.00264578, -0.00264578],\n",
       "       [ 0.00127321, -0.00127321],\n",
       "       [-0.00088399,  0.00088399],\n",
       "       [-0.00330166,  0.00330166],\n",
       "       [ 0.00144389, -0.00144389],\n",
       "       [ 0.00521791, -0.00521791],\n",
       "       [-0.00192384,  0.00192384]])"
      ]
     },
     "execution_count": 8,
     "metadata": {},
     "output_type": "execute_result"
    }
   ],
   "source": [
    "explainer_rf_shap = shap.TreeExplainer(clf)\n",
    "explainer_rf_shap.shap_values(input_rf)"
   ]
  },
  {
   "cell_type": "code",
   "execution_count": 9,
   "metadata": {},
   "outputs": [
    {
     "data": {
      "text/plain": [
       "array([[ 0.31882277, -0.31882277],\n",
       "       [ 0.00452016, -0.00452016],\n",
       "       [ 0.02143294, -0.02143294],\n",
       "       [ 0.01743621, -0.01743621],\n",
       "       [-0.04689645,  0.04689645],\n",
       "       [ 0.02711024, -0.02711024],\n",
       "       [ 0.01853058, -0.01853058],\n",
       "       [ 0.03271735, -0.03271735],\n",
       "       [ 0.02788661, -0.02788661],\n",
       "       [ 0.0329632 , -0.0329632 ],\n",
       "       [ 0.00214853, -0.00214853],\n",
       "       [ 0.00503364, -0.00503364],\n",
       "       [ 0.00225892, -0.00225892],\n",
       "       [ 0.00264578, -0.00264578],\n",
       "       [ 0.00127321, -0.00127321],\n",
       "       [-0.00088399,  0.00088399],\n",
       "       [-0.00330166,  0.00330166],\n",
       "       [ 0.00144389, -0.00144389],\n",
       "       [ 0.00521791, -0.00521791],\n",
       "       [-0.00192384,  0.00192384]])"
      ]
     },
     "execution_count": 9,
     "metadata": {},
     "output_type": "execute_result"
    }
   ],
   "source": [
    "explainer_rf_cat = tree_shap.tree_cat_explainer(clf)\n",
    "explainer_rf_cat.shap_values(input_rf)"
   ]
  },
  {
   "cell_type": "code",
   "execution_count": 10,
   "metadata": {},
   "outputs": [
    {
     "data": {
      "image/png": "[encoded data removed]",
      "text/plain": [
       "<Figure size 500x500 with 1 Axes>"
      ]
     },
     "metadata": {},
     "output_type": "display_data"
    }
   ],
   "source": [
    "fig, ax = plt.subplots(figsize = (5,5))\n",
    "plot_tree(Tree, ax = ax, filled=True, feature_names = [\"cat_1\", \"cat_2\", \"x\"], impurity = False)\n",
    "plt.show()"
   ]
  },
  {
   "cell_type": "code",
   "execution_count": 11,
   "metadata": {},
   "outputs": [
    {
     "data": {
      "text/html": [
       "<style>#sk-container-id-1 {color: black;}#sk-container-id-1 pre{padding: 0;}#sk-container-id-1 div.sk-toggleable {background-color: white;}#sk-container-id-1 label.sk-toggleable__label {cursor: pointer;display: block;width: 100%;margin-bottom: 0;padding: 0.3em;box-sizing: border-box;text-align: center;}#sk-container-id-1 label.sk-toggleable__label-arrow:before {content: \"▸\";float: left;margin-right: 0.25em;color: #696969;}#sk-container-id-1 label.sk-toggleable__label-arrow:hover:before {color: black;}#sk-container-id-1 div.sk-estimator:hover label.sk-toggleable__label-arrow:before {color: black;}#sk-container-id-1 div.sk-toggleable__content {max-height: 0;max-width: 0;overflow: hidden;text-align: left;background-color: #f0f8ff;}#sk-container-id-1 div.sk-toggleable__content pre {margin: 0.2em;color: black;border-radius: 0.25em;background-color: #f0f8ff;}#sk-container-id-1 input.sk-toggleable__control:checked~div.sk-toggleable__content {max-height: 200px;max-width: 100%;overflow: auto;}#sk-container-id-1 input.sk-toggleable__control:checked~label.sk-toggleable__label-arrow:before {content: \"▾\";}#sk-container-id-1 div.sk-estimator input.sk-toggleable__control:checked~label.sk-toggleable__label {background-color: #d4ebff;}#sk-container-id-1 div.sk-label input.sk-toggleable__control:checked~label.sk-toggleable__label {background-color: #d4ebff;}#sk-container-id-1 input.sk-hidden--visually {border: 0;clip: rect(1px 1px 1px 1px);clip: rect(1px, 1px, 1px, 1px);height: 1px;margin: -1px;overflow: hidden;padding: 0;position: absolute;width: 1px;}#sk-container-id-1 div.sk-estimator {font-family: monospace;background-color: #f0f8ff;border: 1px dotted black;border-radius: 0.25em;box-sizing: border-box;margin-bottom: 0.5em;}#sk-container-id-1 div.sk-estimator:hover {background-color: #d4ebff;}#sk-container-id-1 div.sk-parallel-item::after {content: \"\";width: 100%;border-bottom: 1px solid gray;flex-grow: 1;}#sk-container-id-1 div.sk-label:hover label.sk-toggleable__label {background-color: #d4ebff;}#sk-container-id-1 div.sk-serial::before {content: \"\";position: absolute;border-left: 1px solid gray;box-sizing: border-box;top: 0;bottom: 0;left: 50%;z-index: 0;}#sk-container-id-1 div.sk-serial {display: flex;flex-direction: column;align-items: center;background-color: white;padding-right: 0.2em;padding-left: 0.2em;position: relative;}#sk-container-id-1 div.sk-item {position: relative;z-index: 1;}#sk-container-id-1 div.sk-parallel {display: flex;align-items: stretch;justify-content: center;background-color: white;position: relative;}#sk-container-id-1 div.sk-item::before, #sk-container-id-1 div.sk-parallel-item::before {content: \"\";position: absolute;border-left: 1px solid gray;box-sizing: border-box;top: 0;bottom: 0;left: 50%;z-index: -1;}#sk-container-id-1 div.sk-parallel-item {display: flex;flex-direction: column;z-index: 1;position: relative;background-color: white;}#sk-container-id-1 div.sk-parallel-item:first-child::after {align-self: flex-end;width: 50%;}#sk-container-id-1 div.sk-parallel-item:last-child::after {align-self: flex-start;width: 50%;}#sk-container-id-1 div.sk-parallel-item:only-child::after {width: 0;}#sk-container-id-1 div.sk-dashed-wrapped {border: 1px dashed gray;margin: 0 0.4em 0.5em 0.4em;box-sizing: border-box;padding-bottom: 0.4em;background-color: white;}#sk-container-id-1 div.sk-label label {font-family: monospace;font-weight: bold;display: inline-block;line-height: 1.2em;}#sk-container-id-1 div.sk-label-container {text-align: center;}#sk-container-id-1 div.sk-container {/* jupyter's `normalize.less` sets `[hidden] { display: none; }` but bootstrap.min.css set `[hidden] { display: none !important; }` so we also need the `!important` here to be able to override the default hidden behavior on the sphinx rendered scikit-learn.org. See: https://github.com/scikit-learn/scikit-learn/issues/21755 */display: inline-block !important;position: relative;}#sk-container-id-1 div.sk-text-repr-fallback {display: none;}</style><div id=\"sk-container-id-1\" class=\"sk-top-container\"><div class=\"sk-text-repr-fallback\"><pre>DecisionTreeClassifier()</pre><b>In a Jupyter environment, please rerun this cell to show the HTML representation or trust the notebook. <br />On GitHub, the HTML representation is unable to render, please try loading this page with nbviewer.org.</b></div><div class=\"sk-container\" hidden><div class=\"sk-item\"><div class=\"sk-estimator sk-toggleable\"><input class=\"sk-toggleable__control sk-hidden--visually\" id=\"sk-estimator-id-1\" type=\"checkbox\" checked><label for=\"sk-estimator-id-1\" class=\"sk-toggleable__label sk-toggleable__label-arrow\">DecisionTreeClassifier</label><div class=\"sk-toggleable__content\"><pre>DecisionTreeClassifier()</pre></div></div></div></div></div>"
      ],
      "text/plain": [
       "DecisionTreeClassifier()"
      ]
     },
     "execution_count": 11,
     "metadata": {},
     "output_type": "execute_result"
    }
   ],
   "source": [
    "Tree_classif = DecisionTreeClassifier()\n",
    "Tree_classif.fit(X, y)"
   ]
  },
  {
   "cell_type": "code",
   "execution_count": 12,
   "metadata": {},
   "outputs": [
    {
     "data": {
      "text/plain": [
       "array([[ 5.01412913e-01, -5.01412913e-01],\n",
       "       [-7.70167086e-02,  7.70167086e-02],\n",
       "       [ 3.24248447e-04, -3.24248447e-04],\n",
       "       [ 7.47177746e-03, -7.47177746e-03],\n",
       "       [-6.46688178e-02,  6.46688178e-02],\n",
       "       [ 9.20948737e-02, -9.20948737e-02],\n",
       "       [-6.64407378e-03,  6.64407378e-03],\n",
       "       [ 1.50264154e-02, -1.50264154e-02],\n",
       "       [ 1.01335133e-02, -1.01335133e-02],\n",
       "       [ 1.48290522e-02, -1.48290522e-02],\n",
       "       [ 5.51059526e-03, -5.51059526e-03],\n",
       "       [ 5.23121729e-04, -5.23121729e-04],\n",
       "       [ 1.80017387e-03, -1.80017387e-03],\n",
       "       [ 1.88036410e-05, -1.88036410e-05],\n",
       "       [-5.07524310e-03,  5.07524310e-03],\n",
       "       [ 5.07576684e-04, -5.07576684e-04],\n",
       "       [ 5.13622857e-04, -5.13622857e-04],\n",
       "       [-2.00677905e-04,  2.00677905e-04],\n",
       "       [ 3.77964942e-05, -3.77964942e-05],\n",
       "       [ 2.40103709e-03, -2.40103709e-03]])"
      ]
     },
     "execution_count": 12,
     "metadata": {},
     "output_type": "execute_result"
    }
   ],
   "source": [
    "explainer_tree_classif_cat = tree_shap.tree_cat_explainer(Tree_classif)\n",
    "explainer_tree_classif_cat.shap_values(input_rf)"
   ]
  },
  {
   "cell_type": "code",
   "execution_count": 13,
   "metadata": {},
   "outputs": [
    {
     "data": {
      "text/plain": [
       "array([[ 5.01412913e-01, -5.01412913e-01],\n",
       "       [-7.70167086e-02,  7.70167086e-02],\n",
       "       [ 3.24248447e-04, -3.24248447e-04],\n",
       "       [ 7.47177746e-03, -7.47177746e-03],\n",
       "       [-6.46688178e-02,  6.46688178e-02],\n",
       "       [ 9.20948737e-02, -9.20948737e-02],\n",
       "       [-6.64407378e-03,  6.64407378e-03],\n",
       "       [ 1.50264154e-02, -1.50264154e-02],\n",
       "       [ 1.01335133e-02, -1.01335133e-02],\n",
       "       [ 1.48290522e-02, -1.48290522e-02],\n",
       "       [ 5.51059526e-03, -5.51059526e-03],\n",
       "       [ 5.23121729e-04, -5.23121729e-04],\n",
       "       [ 1.80017387e-03, -1.80017387e-03],\n",
       "       [ 1.88036410e-05, -1.88036410e-05],\n",
       "       [-5.07524310e-03,  5.07524310e-03],\n",
       "       [ 5.07576684e-04, -5.07576684e-04],\n",
       "       [ 5.13622857e-04, -5.13622857e-04],\n",
       "       [-2.00677905e-04,  2.00677905e-04],\n",
       "       [ 3.77964942e-05, -3.77964942e-05],\n",
       "       [ 2.40103709e-03, -2.40103709e-03]])"
      ]
     },
     "execution_count": 13,
     "metadata": {},
     "output_type": "execute_result"
    }
   ],
   "source": [
    "explainer_tree_classif_shap = shap.TreeExplainer(Tree_classif)\n",
    "explainer_tree_classif_shap.shap_values(input_rf)"
   ]
  },
  {
   "cell_type": "code",
   "execution_count": 14,
   "metadata": {},
   "outputs": [
    {
     "data": {
      "text/html": [
       "<style>#sk-container-id-2 {color: black;}#sk-container-id-2 pre{padding: 0;}#sk-container-id-2 div.sk-toggleable {background-color: white;}#sk-container-id-2 label.sk-toggleable__label {cursor: pointer;display: block;width: 100%;margin-bottom: 0;padding: 0.3em;box-sizing: border-box;text-align: center;}#sk-container-id-2 label.sk-toggleable__label-arrow:before {content: \"▸\";float: left;margin-right: 0.25em;color: #696969;}#sk-container-id-2 label.sk-toggleable__label-arrow:hover:before {color: black;}#sk-container-id-2 div.sk-estimator:hover label.sk-toggleable__label-arrow:before {color: black;}#sk-container-id-2 div.sk-toggleable__content {max-height: 0;max-width: 0;overflow: hidden;text-align: left;background-color: #f0f8ff;}#sk-container-id-2 div.sk-toggleable__content pre {margin: 0.2em;color: black;border-radius: 0.25em;background-color: #f0f8ff;}#sk-container-id-2 input.sk-toggleable__control:checked~div.sk-toggleable__content {max-height: 200px;max-width: 100%;overflow: auto;}#sk-container-id-2 input.sk-toggleable__control:checked~label.sk-toggleable__label-arrow:before {content: \"▾\";}#sk-container-id-2 div.sk-estimator input.sk-toggleable__control:checked~label.sk-toggleable__label {background-color: #d4ebff;}#sk-container-id-2 div.sk-label input.sk-toggleable__control:checked~label.sk-toggleable__label {background-color: #d4ebff;}#sk-container-id-2 input.sk-hidden--visually {border: 0;clip: rect(1px 1px 1px 1px);clip: rect(1px, 1px, 1px, 1px);height: 1px;margin: -1px;overflow: hidden;padding: 0;position: absolute;width: 1px;}#sk-container-id-2 div.sk-estimator {font-family: monospace;background-color: #f0f8ff;border: 1px dotted black;border-radius: 0.25em;box-sizing: border-box;margin-bottom: 0.5em;}#sk-container-id-2 div.sk-estimator:hover {background-color: #d4ebff;}#sk-container-id-2 div.sk-parallel-item::after {content: \"\";width: 100%;border-bottom: 1px solid gray;flex-grow: 1;}#sk-container-id-2 div.sk-label:hover label.sk-toggleable__label {background-color: #d4ebff;}#sk-container-id-2 div.sk-serial::before {content: \"\";position: absolute;border-left: 1px solid gray;box-sizing: border-box;top: 0;bottom: 0;left: 50%;z-index: 0;}#sk-container-id-2 div.sk-serial {display: flex;flex-direction: column;align-items: center;background-color: white;padding-right: 0.2em;padding-left: 0.2em;position: relative;}#sk-container-id-2 div.sk-item {position: relative;z-index: 1;}#sk-container-id-2 div.sk-parallel {display: flex;align-items: stretch;justify-content: center;background-color: white;position: relative;}#sk-container-id-2 div.sk-item::before, #sk-container-id-2 div.sk-parallel-item::before {content: \"\";position: absolute;border-left: 1px solid gray;box-sizing: border-box;top: 0;bottom: 0;left: 50%;z-index: -1;}#sk-container-id-2 div.sk-parallel-item {display: flex;flex-direction: column;z-index: 1;position: relative;background-color: white;}#sk-container-id-2 div.sk-parallel-item:first-child::after {align-self: flex-end;width: 50%;}#sk-container-id-2 div.sk-parallel-item:last-child::after {align-self: flex-start;width: 50%;}#sk-container-id-2 div.sk-parallel-item:only-child::after {width: 0;}#sk-container-id-2 div.sk-dashed-wrapped {border: 1px dashed gray;margin: 0 0.4em 0.5em 0.4em;box-sizing: border-box;padding-bottom: 0.4em;background-color: white;}#sk-container-id-2 div.sk-label label {font-family: monospace;font-weight: bold;display: inline-block;line-height: 1.2em;}#sk-container-id-2 div.sk-label-container {text-align: center;}#sk-container-id-2 div.sk-container {/* jupyter's `normalize.less` sets `[hidden] { display: none; }` but bootstrap.min.css set `[hidden] { display: none !important; }` so we also need the `!important` here to be able to override the default hidden behavior on the sphinx rendered scikit-learn.org. See: https://github.com/scikit-learn/scikit-learn/issues/21755 */display: inline-block !important;position: relative;}#sk-container-id-2 div.sk-text-repr-fallback {display: none;}</style><div id=\"sk-container-id-2\" class=\"sk-top-container\"><div class=\"sk-text-repr-fallback\"><pre>RandomForestRegressor()</pre><b>In a Jupyter environment, please rerun this cell to show the HTML representation or trust the notebook. <br />On GitHub, the HTML representation is unable to render, please try loading this page with nbviewer.org.</b></div><div class=\"sk-container\" hidden><div class=\"sk-item\"><div class=\"sk-estimator sk-toggleable\"><input class=\"sk-toggleable__control sk-hidden--visually\" id=\"sk-estimator-id-2\" type=\"checkbox\" checked><label for=\"sk-estimator-id-2\" class=\"sk-toggleable__label sk-toggleable__label-arrow\">RandomForestRegressor</label><div class=\"sk-toggleable__content\"><pre>RandomForestRegressor()</pre></div></div></div></div></div>"
      ],
      "text/plain": [
       "RandomForestRegressor()"
      ]
     },
     "execution_count": 14,
     "metadata": {},
     "output_type": "execute_result"
    }
   ],
   "source": [
    "rf_classif = RandomForestRegressor()\n",
    "rf_classif.fit(data.values[:,:-1], data.values[:,-1])"
   ]
  },
  {
   "cell_type": "code",
   "execution_count": 15,
   "metadata": {},
   "outputs": [
    {
     "data": {
      "text/plain": [
       "array([[  5.03692809,   1.39483339,   4.31423851],\n",
       "       [-12.32128329,  -0.3124442 ,  -0.5402725 ]])"
      ]
     },
     "execution_count": 15,
     "metadata": {},
     "output_type": "execute_result"
    }
   ],
   "source": [
    "explainer_rf_regre_cat = tree_shap.tree_cat_explainer(rf_classif)\n",
    "explainer_rf_regre_cat.shap_values(input_shap)"
   ]
  },
  {
   "cell_type": "code",
   "execution_count": 16,
   "metadata": {},
   "outputs": [
    {
     "data": {
      "text/plain": [
       "array([[  5.03692809,   1.39483339,   4.31423851],\n",
       "       [-12.32128329,  -0.3124442 ,  -0.5402725 ]])"
      ]
     },
     "execution_count": 16,
     "metadata": {},
     "output_type": "execute_result"
    }
   ],
   "source": [
    "explainer_rf_regre_shap = shap.TreeExplainer(rf_classif)\n",
    "explainer_rf_regre_shap.shap_values(input_shap)"
   ]
  },
  {
   "cell_type": "code",
   "execution_count": 17,
   "metadata": {},
   "outputs": [
    {
     "data": {
      "text/plain": [
       "array([[  6.83333333,   4.16666667],\n",
       "       [-12.5       ,  -0.5       ]])"
      ]
     },
     "execution_count": 17,
     "metadata": {},
     "output_type": "execute_result"
    }
   ],
   "source": [
    "explainer_tree_cat = tree_shap.tree_cat_explainer(Tree, feature_groups= [[0,1], 2])\n",
    "explainer_tree_cat.shap_values(input_shap)"
   ]
  },
  {
   "cell_type": "code",
   "execution_count": 19,
   "metadata": {},
   "outputs": [
    {
     "data": {
      "text/plain": [
       "4.166666666666667"
      ]
     },
     "execution_count": 19,
     "metadata": {},
     "output_type": "execute_result"
    }
   ],
   "source": [
    "25/6"
   ]
  },
  {
   "cell_type": "code",
   "execution_count": null,
   "metadata": {},
   "outputs": [],
   "source": []
  }
 ],
 "metadata": {
  "kernelspec": {
   "display_name": "Python 3",
   "language": "python",
   "name": "python3"
  },
  "language_info": {
   "codemirror_mode": {
    "name": "ipython",
    "version": 3
   },
   "file_extension": ".py",
   "mimetype": "text/x-python",
   "name": "python",
   "nbconvert_exporter": "python",
   "pygments_lexer": "ipython3",
   "version": "3.11.3"
  }
 },
 "nbformat": 4,
 "nbformat_minor": 2
}
